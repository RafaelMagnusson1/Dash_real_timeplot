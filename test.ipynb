{
 "cells": [
  {
   "cell_type": "code",
   "execution_count": 1,
   "metadata": {},
   "outputs": [],
   "source": [
    "import requests"
   ]
  },
  {
   "cell_type": "code",
   "execution_count": 11,
   "metadata": {},
   "outputs": [],
   "source": [
    "url = \"https://www.bitstamp.net/api/v2/ohlc/btcusd/\"\n",
    "\n",
    "params = {\"step\":\"60\",\"limit\":\"30\"}"
   ]
  },
  {
   "cell_type": "code",
   "execution_count": 12,
   "metadata": {},
   "outputs": [],
   "source": [
    "data = requests.get(url, params=params)"
   ]
  },
  {
   "cell_type": "code",
   "execution_count": 13,
   "metadata": {},
   "outputs": [
    {
     "data": {
      "text/plain": [
       "'https://www.bitstamp.net/api/v2/ohlc/btcusd/?step=60&limit=30'"
      ]
     },
     "execution_count": 13,
     "metadata": {},
     "output_type": "execute_result"
    }
   ],
   "source": [
    "data.url"
   ]
  },
  {
   "cell_type": "code",
   "execution_count": 14,
   "metadata": {},
   "outputs": [
    {
     "data": {
      "text/plain": [
       "b'{\"data\": {\"pair\": \"BTC/USD\", \"ohlc\": [{\"timestamp\": \"1719777480\", \"open\": \"61905\", \"high\": \"61946\", \"low\": \"61905\", \"close\": \"61925\", \"volume\": \"0.11030298\"}, {\"timestamp\": \"1719777540\", \"open\": \"61921\", \"high\": \"61941\", \"low\": \"61919\", \"close\": \"61940\", \"volume\": \"0.07221943\"}, {\"timestamp\": \"1719777600\", \"open\": \"61931\", \"high\": \"61943\", \"low\": \"61925\", \"close\": \"61925\", \"volume\": \"0.95277841\"}, {\"timestamp\": \"1719777660\", \"open\": \"61929\", \"high\": \"61929\", \"low\": \"61929\", \"close\": \"61929\", \"volume\": \"0.00068408\"}, {\"timestamp\": \"1719777720\", \"open\": \"61929\", \"high\": \"61929\", \"low\": \"61929\", \"close\": \"61929\", \"volume\": \"0.00000000\"}, {\"timestamp\": \"1719777780\", \"open\": \"61929\", \"high\": \"61929\", \"low\": \"61929\", \"close\": \"61929\", \"volume\": \"0.00000000\"}, {\"timestamp\": \"1719777840\", \"open\": \"61970\", \"high\": \"61970\", \"low\": \"61944\", \"close\": \"61945\", \"volume\": \"0.25969267\"}, {\"timestamp\": \"1719777900\", \"open\": \"61943\", \"high\": \"61947\", \"low\": \"61925\", \"close\": \"61925\", \"volume\": \"0.39022314\"}, {\"timestamp\": \"1719777960\", \"open\": \"61940\", \"high\": \"61942\", \"low\": \"61940\", \"close\": \"61942\", \"volume\": \"0.21692382\"}, {\"timestamp\": \"1719778020\", \"open\": \"61948\", \"high\": \"61990\", \"low\": \"61948\", \"close\": \"61990\", \"volume\": \"0.64179677\"}, {\"timestamp\": \"1719778080\", \"open\": \"61983\", \"high\": \"61990\", \"low\": \"61963\", \"close\": \"61990\", \"volume\": \"0.36091520\"}, {\"timestamp\": \"1719778140\", \"open\": \"61983\", \"high\": \"61991\", \"low\": \"61982\", \"close\": \"61983\", \"volume\": \"0.59160559\"}, {\"timestamp\": \"1719778200\", \"open\": \"61980\", \"high\": \"61992\", \"low\": \"61979\", \"close\": \"61992\", \"volume\": \"0.14519349\"}, {\"timestamp\": \"1719778260\", \"open\": \"61992\", \"high\": \"61993\", \"low\": \"61990\", \"close\": \"61992\", \"volume\": \"0.16648000\"}, {\"timestamp\": \"1719778320\", \"open\": \"61992\", \"high\": \"62002\", \"low\": \"61992\", \"close\": \"62002\", \"volume\": \"1.13133609\"}, {\"timestamp\": \"1719778380\", \"open\": \"61998\", \"high\": \"62009\", \"low\": \"61998\", \"close\": \"62009\", \"volume\": \"0.68330217\"}, {\"timestamp\": \"1719778440\", \"open\": \"62008\", \"high\": \"62008\", \"low\": \"61972\", \"close\": \"61972\", \"volume\": \"0.70516174\"}, {\"timestamp\": \"1719778500\", \"open\": \"61979\", \"high\": \"61994\", \"low\": \"61979\", \"close\": \"61994\", \"volume\": \"3.40226324\"}, {\"timestamp\": \"1719778560\", \"open\": \"61964\", \"high\": \"61982\", \"low\": \"61964\", \"close\": \"61981\", \"volume\": \"0.45684383\"}, {\"timestamp\": \"1719778620\", \"open\": \"61981\", \"high\": \"61992\", \"low\": \"61981\", \"close\": \"61984\", \"volume\": \"0.28705456\"}, {\"timestamp\": \"1719778680\", \"open\": \"61986\", \"high\": \"62003\", \"low\": \"61986\", \"close\": \"61998\", \"volume\": \"0.60345263\"}, {\"timestamp\": \"1719778740\", \"open\": \"62008\", \"high\": \"62009\", \"low\": \"61995\", \"close\": \"61995\", \"volume\": \"0.44236141\"}, {\"timestamp\": \"1719778800\", \"open\": \"61992\", \"high\": \"62002\", \"low\": \"61992\", \"close\": \"61999\", \"volume\": \"0.43432586\"}, {\"timestamp\": \"1719778860\", \"open\": \"62004\", \"high\": \"62004\", \"low\": \"61996\", \"close\": \"61996\", \"volume\": \"0.12071819\"}, {\"timestamp\": \"1719778920\", \"open\": \"62012\", \"high\": \"62017\", \"low\": \"62008\", \"close\": \"62017\", \"volume\": \"0.50717730\"}, {\"timestamp\": \"1719778980\", \"open\": \"62017\", \"high\": \"62099\", \"low\": \"62017\", \"close\": \"62059\", \"volume\": \"9.06282345\"}, {\"timestamp\": \"1719779040\", \"open\": \"62099\", \"high\": \"62135\", \"low\": \"62097\", \"close\": \"62135\", \"volume\": \"3.51431992\"}, {\"timestamp\": \"1719779100\", \"open\": \"62136\", \"high\": \"62144\", \"low\": \"62125\", \"close\": \"62144\", \"volume\": \"0.50230024\"}, {\"timestamp\": \"1719779160\", \"open\": \"62144\", \"high\": \"62151\", \"low\": \"62143\", \"close\": \"62144\", \"volume\": \"0.32218264\"}, {\"timestamp\": \"1719779220\", \"open\": \"62151\", \"high\": \"62155\", \"low\": \"62151\", \"close\": \"62155\", \"volume\": \"0.04769000\"}]}}'"
      ]
     },
     "execution_count": 14,
     "metadata": {},
     "output_type": "execute_result"
    }
   ],
   "source": [
    "data.content"
   ]
  },
  {
   "cell_type": "code",
   "execution_count": 15,
   "metadata": {},
   "outputs": [
    {
     "data": {
      "text/plain": [
       "<Response [200]>"
      ]
     },
     "execution_count": 15,
     "metadata": {},
     "output_type": "execute_result"
    }
   ],
   "source": [
    "data"
   ]
  },
  {
   "cell_type": "code",
   "execution_count": 16,
   "metadata": {},
   "outputs": [],
   "source": [
    "import json"
   ]
  },
  {
   "cell_type": "code",
   "execution_count": 17,
   "metadata": {},
   "outputs": [
    {
     "data": {
      "text/plain": [
       "<bound method Response.json of <Response [200]>>"
      ]
     },
     "execution_count": 17,
     "metadata": {},
     "output_type": "execute_result"
    }
   ],
   "source": [
    "data.json"
   ]
  },
  {
   "cell_type": "code",
   "execution_count": 19,
   "metadata": {},
   "outputs": [
    {
     "data": {
      "text/plain": [
       "{'data': {'pair': 'BTC/USD',\n",
       "  'ohlc': [{'timestamp': '1719777480',\n",
       "    'open': '61905',\n",
       "    'high': '61946',\n",
       "    'low': '61905',\n",
       "    'close': '61925',\n",
       "    'volume': '0.11030298'},\n",
       "   {'timestamp': '1719777540',\n",
       "    'open': '61921',\n",
       "    'high': '61941',\n",
       "    'low': '61919',\n",
       "    'close': '61940',\n",
       "    'volume': '0.07221943'},\n",
       "   {'timestamp': '1719777600',\n",
       "    'open': '61931',\n",
       "    'high': '61943',\n",
       "    'low': '61925',\n",
       "    'close': '61925',\n",
       "    'volume': '0.95277841'},\n",
       "   {'timestamp': '1719777660',\n",
       "    'open': '61929',\n",
       "    'high': '61929',\n",
       "    'low': '61929',\n",
       "    'close': '61929',\n",
       "    'volume': '0.00068408'},\n",
       "   {'timestamp': '1719777720',\n",
       "    'open': '61929',\n",
       "    'high': '61929',\n",
       "    'low': '61929',\n",
       "    'close': '61929',\n",
       "    'volume': '0.00000000'},\n",
       "   {'timestamp': '1719777780',\n",
       "    'open': '61929',\n",
       "    'high': '61929',\n",
       "    'low': '61929',\n",
       "    'close': '61929',\n",
       "    'volume': '0.00000000'},\n",
       "   {'timestamp': '1719777840',\n",
       "    'open': '61970',\n",
       "    'high': '61970',\n",
       "    'low': '61944',\n",
       "    'close': '61945',\n",
       "    'volume': '0.25969267'},\n",
       "   {'timestamp': '1719777900',\n",
       "    'open': '61943',\n",
       "    'high': '61947',\n",
       "    'low': '61925',\n",
       "    'close': '61925',\n",
       "    'volume': '0.39022314'},\n",
       "   {'timestamp': '1719777960',\n",
       "    'open': '61940',\n",
       "    'high': '61942',\n",
       "    'low': '61940',\n",
       "    'close': '61942',\n",
       "    'volume': '0.21692382'},\n",
       "   {'timestamp': '1719778020',\n",
       "    'open': '61948',\n",
       "    'high': '61990',\n",
       "    'low': '61948',\n",
       "    'close': '61990',\n",
       "    'volume': '0.64179677'},\n",
       "   {'timestamp': '1719778080',\n",
       "    'open': '61983',\n",
       "    'high': '61990',\n",
       "    'low': '61963',\n",
       "    'close': '61990',\n",
       "    'volume': '0.36091520'},\n",
       "   {'timestamp': '1719778140',\n",
       "    'open': '61983',\n",
       "    'high': '61991',\n",
       "    'low': '61982',\n",
       "    'close': '61983',\n",
       "    'volume': '0.59160559'},\n",
       "   {'timestamp': '1719778200',\n",
       "    'open': '61980',\n",
       "    'high': '61992',\n",
       "    'low': '61979',\n",
       "    'close': '61992',\n",
       "    'volume': '0.14519349'},\n",
       "   {'timestamp': '1719778260',\n",
       "    'open': '61992',\n",
       "    'high': '61993',\n",
       "    'low': '61990',\n",
       "    'close': '61992',\n",
       "    'volume': '0.16648000'},\n",
       "   {'timestamp': '1719778320',\n",
       "    'open': '61992',\n",
       "    'high': '62002',\n",
       "    'low': '61992',\n",
       "    'close': '62002',\n",
       "    'volume': '1.13133609'},\n",
       "   {'timestamp': '1719778380',\n",
       "    'open': '61998',\n",
       "    'high': '62009',\n",
       "    'low': '61998',\n",
       "    'close': '62009',\n",
       "    'volume': '0.68330217'},\n",
       "   {'timestamp': '1719778440',\n",
       "    'open': '62008',\n",
       "    'high': '62008',\n",
       "    'low': '61972',\n",
       "    'close': '61972',\n",
       "    'volume': '0.70516174'},\n",
       "   {'timestamp': '1719778500',\n",
       "    'open': '61979',\n",
       "    'high': '61994',\n",
       "    'low': '61979',\n",
       "    'close': '61994',\n",
       "    'volume': '3.40226324'},\n",
       "   {'timestamp': '1719778560',\n",
       "    'open': '61964',\n",
       "    'high': '61982',\n",
       "    'low': '61964',\n",
       "    'close': '61981',\n",
       "    'volume': '0.45684383'},\n",
       "   {'timestamp': '1719778620',\n",
       "    'open': '61981',\n",
       "    'high': '61992',\n",
       "    'low': '61981',\n",
       "    'close': '61984',\n",
       "    'volume': '0.28705456'},\n",
       "   {'timestamp': '1719778680',\n",
       "    'open': '61986',\n",
       "    'high': '62003',\n",
       "    'low': '61986',\n",
       "    'close': '61998',\n",
       "    'volume': '0.60345263'},\n",
       "   {'timestamp': '1719778740',\n",
       "    'open': '62008',\n",
       "    'high': '62009',\n",
       "    'low': '61995',\n",
       "    'close': '61995',\n",
       "    'volume': '0.44236141'},\n",
       "   {'timestamp': '1719778800',\n",
       "    'open': '61992',\n",
       "    'high': '62002',\n",
       "    'low': '61992',\n",
       "    'close': '61999',\n",
       "    'volume': '0.43432586'},\n",
       "   {'timestamp': '1719778860',\n",
       "    'open': '62004',\n",
       "    'high': '62004',\n",
       "    'low': '61996',\n",
       "    'close': '61996',\n",
       "    'volume': '0.12071819'},\n",
       "   {'timestamp': '1719778920',\n",
       "    'open': '62012',\n",
       "    'high': '62017',\n",
       "    'low': '62008',\n",
       "    'close': '62017',\n",
       "    'volume': '0.50717730'},\n",
       "   {'timestamp': '1719778980',\n",
       "    'open': '62017',\n",
       "    'high': '62099',\n",
       "    'low': '62017',\n",
       "    'close': '62059',\n",
       "    'volume': '9.06282345'},\n",
       "   {'timestamp': '1719779040',\n",
       "    'open': '62099',\n",
       "    'high': '62135',\n",
       "    'low': '62097',\n",
       "    'close': '62135',\n",
       "    'volume': '3.51431992'},\n",
       "   {'timestamp': '1719779100',\n",
       "    'open': '62136',\n",
       "    'high': '62144',\n",
       "    'low': '62125',\n",
       "    'close': '62144',\n",
       "    'volume': '0.50230024'},\n",
       "   {'timestamp': '1719779160',\n",
       "    'open': '62144',\n",
       "    'high': '62151',\n",
       "    'low': '62143',\n",
       "    'close': '62144',\n",
       "    'volume': '0.32218264'},\n",
       "   {'timestamp': '1719779220',\n",
       "    'open': '62151',\n",
       "    'high': '62155',\n",
       "    'low': '62151',\n",
       "    'close': '62155',\n",
       "    'volume': '0.04769000'}]}}"
      ]
     },
     "execution_count": 19,
     "metadata": {},
     "output_type": "execute_result"
    }
   ],
   "source": [
    "data.json()"
   ]
  },
  {
   "cell_type": "code",
   "execution_count": 21,
   "metadata": {},
   "outputs": [],
   "source": [
    "import pandas as pd"
   ]
  },
  {
   "cell_type": "code",
   "execution_count": 22,
   "metadata": {},
   "outputs": [],
   "source": [
    "url = \"https://www.bitstamp.net/api/v2/ohlc/btcusd/\"\n",
    "\n",
    "params = {\"step\":\"60\",\"limit\":\"30\"}\n",
    "\n",
    "data = requests.get(url, params=params).json()[\"data\"][\"ohlc\"]\n",
    "data = pd.DataFrame(data)\n",
    "data.timestamp = pd.to_datetime(data.timestamp, unit = \"s\")"
   ]
  },
  {
   "cell_type": "code",
   "execution_count": 23,
   "metadata": {},
   "outputs": [
    {
     "data": {
      "text/html": [
       "<div>\n",
       "<style scoped>\n",
       "    .dataframe tbody tr th:only-of-type {\n",
       "        vertical-align: middle;\n",
       "    }\n",
       "\n",
       "    .dataframe tbody tr th {\n",
       "        vertical-align: top;\n",
       "    }\n",
       "\n",
       "    .dataframe thead th {\n",
       "        text-align: right;\n",
       "    }\n",
       "</style>\n",
       "<table border=\"1\" class=\"dataframe\">\n",
       "  <thead>\n",
       "    <tr style=\"text-align: right;\">\n",
       "      <th></th>\n",
       "      <th>timestamp</th>\n",
       "      <th>open</th>\n",
       "      <th>high</th>\n",
       "      <th>low</th>\n",
       "      <th>close</th>\n",
       "      <th>volume</th>\n",
       "    </tr>\n",
       "  </thead>\n",
       "  <tbody>\n",
       "    <tr>\n",
       "      <th>0</th>\n",
       "      <td>2024-06-30 20:18:00</td>\n",
       "      <td>61986</td>\n",
       "      <td>62003</td>\n",
       "      <td>61986</td>\n",
       "      <td>61998</td>\n",
       "      <td>0.60345263</td>\n",
       "    </tr>\n",
       "    <tr>\n",
       "      <th>1</th>\n",
       "      <td>2024-06-30 20:19:00</td>\n",
       "      <td>62008</td>\n",
       "      <td>62009</td>\n",
       "      <td>61995</td>\n",
       "      <td>61995</td>\n",
       "      <td>0.44236141</td>\n",
       "    </tr>\n",
       "    <tr>\n",
       "      <th>2</th>\n",
       "      <td>2024-06-30 20:20:00</td>\n",
       "      <td>61992</td>\n",
       "      <td>62002</td>\n",
       "      <td>61992</td>\n",
       "      <td>61999</td>\n",
       "      <td>0.43432586</td>\n",
       "    </tr>\n",
       "    <tr>\n",
       "      <th>3</th>\n",
       "      <td>2024-06-30 20:21:00</td>\n",
       "      <td>62004</td>\n",
       "      <td>62004</td>\n",
       "      <td>61996</td>\n",
       "      <td>61996</td>\n",
       "      <td>0.12071819</td>\n",
       "    </tr>\n",
       "    <tr>\n",
       "      <th>4</th>\n",
       "      <td>2024-06-30 20:22:00</td>\n",
       "      <td>62012</td>\n",
       "      <td>62017</td>\n",
       "      <td>62008</td>\n",
       "      <td>62017</td>\n",
       "      <td>0.50717730</td>\n",
       "    </tr>\n",
       "  </tbody>\n",
       "</table>\n",
       "</div>"
      ],
      "text/plain": [
       "            timestamp   open   high    low  close      volume\n",
       "0 2024-06-30 20:18:00  61986  62003  61986  61998  0.60345263\n",
       "1 2024-06-30 20:19:00  62008  62009  61995  61995  0.44236141\n",
       "2 2024-06-30 20:20:00  61992  62002  61992  61999  0.43432586\n",
       "3 2024-06-30 20:21:00  62004  62004  61996  61996  0.12071819\n",
       "4 2024-06-30 20:22:00  62012  62017  62008  62017  0.50717730"
      ]
     },
     "execution_count": 23,
     "metadata": {},
     "output_type": "execute_result"
    }
   ],
   "source": [
    "data.head()"
   ]
  },
  {
   "cell_type": "code",
   "execution_count": null,
   "metadata": {},
   "outputs": [],
   "source": []
  }
 ],
 "metadata": {
  "kernelspec": {
   "display_name": "base",
   "language": "python",
   "name": "python3"
  },
  "language_info": {
   "codemirror_mode": {
    "name": "ipython",
    "version": 3
   },
   "file_extension": ".py",
   "mimetype": "text/x-python",
   "name": "python",
   "nbconvert_exporter": "python",
   "pygments_lexer": "ipython3",
   "version": "3.10.9"
  }
 },
 "nbformat": 4,
 "nbformat_minor": 2
}
